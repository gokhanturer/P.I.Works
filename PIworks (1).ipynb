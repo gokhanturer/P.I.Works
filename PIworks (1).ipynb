{
 "cells": [
  {
   "cell_type": "code",
   "execution_count": 48,
   "id": "14fd0d78",
   "metadata": {},
   "outputs": [],
   "source": [
    "import pandas as pd"
   ]
  },
  {
   "cell_type": "code",
   "execution_count": 49,
   "id": "61ed9074",
   "metadata": {},
   "outputs": [],
   "source": [
    "df = pd.read_csv(\"pi.csv\", delimiter=\";\")"
   ]
  },
  {
   "cell_type": "code",
   "execution_count": 5,
   "id": "ad944b2f",
   "metadata": {},
   "outputs": [
    {
     "data": {
      "text/html": [
       "<div>\n",
       "<style scoped>\n",
       "    .dataframe tbody tr th:only-of-type {\n",
       "        vertical-align: middle;\n",
       "    }\n",
       "\n",
       "    .dataframe tbody tr th {\n",
       "        vertical-align: top;\n",
       "    }\n",
       "\n",
       "    .dataframe thead th {\n",
       "        text-align: right;\n",
       "    }\n",
       "</style>\n",
       "<table border=\"1\" class=\"dataframe\">\n",
       "  <thead>\n",
       "    <tr style=\"text-align: right;\">\n",
       "      <th></th>\n",
       "      <th>Device_Type</th>\n",
       "      <th>Stats Access Link</th>\n",
       "    </tr>\n",
       "  </thead>\n",
       "  <tbody>\n",
       "    <tr>\n",
       "      <th>0</th>\n",
       "      <td>AX0145</td>\n",
       "      <td>&lt;urI&gt;https://xcd32112.smart_meter.com&lt;/url&gt;</td>\n",
       "    </tr>\n",
       "    <tr>\n",
       "      <th>1</th>\n",
       "      <td>TRU151</td>\n",
       "      <td>&lt;urI&gt;http://tXh67.dia_meter.com&lt;/url&gt;</td>\n",
       "    </tr>\n",
       "    <tr>\n",
       "      <th>2</th>\n",
       "      <td>ZOD231</td>\n",
       "      <td>&lt;urI&gt;http://yT5495.smart_meter.com&lt;/url&gt;</td>\n",
       "    </tr>\n",
       "    <tr>\n",
       "      <th>3</th>\n",
       "      <td>YRT326</td>\n",
       "      <td>&lt;url&gt;https://ret323</td>\n",
       "    </tr>\n",
       "  </tbody>\n",
       "</table>\n",
       "</div>"
      ],
      "text/plain": [
       "  Device_Type                            Stats Access Link\n",
       "0      AX0145  <urI>https://xcd32112.smart_meter.com</url>\n",
       "1      TRU151        <urI>http://tXh67.dia_meter.com</url>\n",
       "2      ZOD231     <urI>http://yT5495.smart_meter.com</url>\n",
       "3      YRT326                          <url>https://ret323"
      ]
     },
     "execution_count": 5,
     "metadata": {},
     "output_type": "execute_result"
    }
   ],
   "source": [
    "df.head()"
   ]
  },
  {
   "cell_type": "markdown",
   "id": "5586bf94",
   "metadata": {},
   "source": [
    "For this task assuming we already have a dataframe readed as df."
   ]
  },
  {
   "cell_type": "code",
   "execution_count": 47,
   "id": "91cd5424",
   "metadata": {},
   "outputs": [
    {
     "name": "stdout",
     "output_type": "stream",
     "text": [
      "[[('AX0145', 'xcd32112.smart_meter.com')], [('TRU151', 'tXh67.dia_meter.com')], [('ZOD231', 'yT5495.smart_meter.com')], [('YRT326', 'ret323')]]\n"
     ]
    }
   ],
   "source": [
    "list_url = []\n",
    "for device,link  in zip(df[\"Device_Type\"], df[\"Stats Access Link\"]):  # take the pairs of device type and links inside of for loop\n",
    "    processed_url = link.split(\"/\") # takes the part after \"/\" with split\n",
    "    clean_url = processed_url[2].split(\"<\") # takes the part before \"<\" with split and indexing\n",
    "    device_list= [device] # converts  devices to a list \n",
    "    pairs = zip(device_list, clean_url) # makes devices types and urls pairs with zip func.\n",
    "    list_url.append(list(pairs)) # opens zip with list fuction to append members to list_url\n",
    "print(list_url)"
   ]
  },
  {
   "cell_type": "code",
   "execution_count": null,
   "id": "198f65b6",
   "metadata": {},
   "outputs": [],
   "source": []
  }
 ],
 "metadata": {
  "kernelspec": {
   "display_name": "Python 3",
   "language": "python",
   "name": "python3"
  },
  "language_info": {
   "codemirror_mode": {
    "name": "ipython",
    "version": 3
   },
   "file_extension": ".py",
   "mimetype": "text/x-python",
   "name": "python",
   "nbconvert_exporter": "python",
   "pygments_lexer": "ipython3",
   "version": "3.8.8"
  }
 },
 "nbformat": 4,
 "nbformat_minor": 5
}
